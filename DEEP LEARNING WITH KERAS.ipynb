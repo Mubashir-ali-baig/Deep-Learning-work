{
 "cells": [
  {
   "cell_type": "code",
   "execution_count": 24,
   "metadata": {},
   "outputs": [
    {
     "data": {
      "image/png": "[encoded data removed]",
      "text/plain": [
       "<matplotlib.figure.Figure at 0x25e47955a58>"
      ]
     },
     "metadata": {},
     "output_type": "display_data"
    }
   ],
   "source": [
    "import numpy as np\n",
    "import pandas as pd\n",
    "import matplotlib.pyplot as plt\n",
    "x=np.linspace(-1,1,2000)\n",
    "y=2*x+ np.random.randn(*x.shape) * 0.33\n",
    "plt.scatter(x,y)\n",
    "plt.show()"
   ]
  },
  {
   "cell_type": "code",
   "execution_count": 26,
   "metadata": {},
   "outputs": [
    {
     "data": {
      "text/plain": [
       "array([-2.      , -1.997999, -1.995998, ...,  1.995998,  1.997999,\n",
       "        2.      ])"
      ]
     },
     "execution_count": 26,
     "metadata": {},
     "output_type": "execute_result"
    }
   ],
   "source": [
    "def line(x,w=0,b=0):\n",
    "    return (x*w)+b\n",
    "pline=line(x,2)\n",
    "pline\n"
   ]
  },
  {
   "cell_type": "code",
   "execution_count": 27,
   "metadata": {},
   "outputs": [
    {
     "data": {
      "image/png": "[encoded data removed]",
      "text/plain": [
       "<matplotlib.figure.Figure at 0x25e47987e10>"
      ]
     },
     "metadata": {},
     "output_type": "display_data"
    }
   ],
   "source": [
    "plt.scatter(x,y)\n",
    "plt.plot(x,pline,c='r')\n",
    "plt.show()"
   ]
  },
  {
   "cell_type": "code",
   "execution_count": 28,
   "metadata": {
    "collapsed": true
   },
   "outputs": [],
   "source": [
    "def rmse(pridictions,targets):\n",
    "    return np.sqrt(((pridictions-targets) ** 2).mean())\n",
    "        \n"
   ]
  },
  {
   "cell_type": "code",
   "execution_count": 29,
   "metadata": {},
   "outputs": [
    {
     "data": {
      "text/plain": [
       "0.331375875560958"
      ]
     },
     "execution_count": 29,
     "metadata": {},
     "output_type": "execute_result"
    }
   ],
   "source": [
    "rmse(pline,y)"
   ]
  },
  {
   "cell_type": "code",
   "execution_count": 30,
   "metadata": {},
   "outputs": [],
   "source": [
    "from keras.datasets import mnist\n",
    "(train_images,train_labels),(test_images,test_labels)=mnist.load_data()"
   ]
  },
  {
   "cell_type": "code",
   "execution_count": 42,
   "metadata": {},
   "outputs": [
    {
     "name": "stdout",
     "output_type": "stream",
     "text": [
      "Epoch 1/100\n",
      "2000/2000 [==============================] - 2s 850us/step - loss: 1.2786 - mean_squared_error: 2.4613 - mean_absolute_error: 1.2786 - acc: 0.0000e+00\n",
      "Epoch 2/100\n",
      "2000/2000 [==============================] - 0s 85us/step - loss: 1.2786 - mean_squared_error: 2.4613 - mean_absolute_error: 1.2786 - acc: 0.0000e+00\n",
      "Epoch 3/100\n",
      "2000/2000 [==============================] - 0s 76us/step - loss: 1.2786 - mean_squared_error: 2.4613 - mean_absolute_error: 1.2786 - acc: 0.0000e+00\n",
      "Epoch 4/100\n",
      "2000/2000 [==============================] - 0s 87us/step - loss: 1.2786 - mean_squared_error: 2.4613 - mean_absolute_error: 1.2786 - acc: 0.0000e+00\n",
      "Epoch 5/100\n",
      "2000/2000 [==============================] - 0s 80us/step - loss: 1.2786 - mean_squared_error: 2.4613 - mean_absolute_error: 1.2786 - acc: 0.0000e+00\n",
      "Epoch 6/100\n",
      "2000/2000 [==============================] - 0s 73us/step - loss: 1.2786 - mean_squared_error: 2.4613 - mean_absolute_error: 1.2786 - acc: 0.0000e+00\n",
      "Epoch 7/100\n",
      "2000/2000 [==============================] - 0s 73us/step - loss: 1.2786 - mean_squared_error: 2.4613 - mean_absolute_error: 1.2786 - acc: 0.0000e+00\n",
      "Epoch 8/100\n",
      "2000/2000 [==============================] - 0s 77us/step - loss: 1.2786 - mean_squared_error: 2.4613 - mean_absolute_error: 1.2786 - acc: 0.0000e+00\n",
      "Epoch 9/100\n",
      "2000/2000 [==============================] - 0s 74us/step - loss: 1.2786 - mean_squared_error: 2.4613 - mean_absolute_error: 1.2786 - acc: 0.0000e+00\n",
      "Epoch 10/100\n",
      "2000/2000 [==============================] - 0s 73us/step - loss: 1.2786 - mean_squared_error: 2.4613 - mean_absolute_error: 1.2786 - acc: 0.0000e+00\n",
      "Epoch 11/100\n",
      "2000/2000 [==============================] - 0s 76us/step - loss: 1.2786 - mean_squared_error: 2.4613 - mean_absolute_error: 1.2786 - acc: 0.0000e+00\n",
      "Epoch 12/100\n",
      "2000/2000 [==============================] - 0s 79us/step - loss: 1.2786 - mean_squared_error: 2.4613 - mean_absolute_error: 1.2786 - acc: 0.0000e+00\n",
      "Epoch 13/100\n",
      "2000/2000 [==============================] - 0s 78us/step - loss: 1.2786 - mean_squared_error: 2.4613 - mean_absolute_error: 1.2786 - acc: 0.0000e+00\n",
      "Epoch 14/100\n",
      "2000/2000 [==============================] - 0s 90us/step - loss: 1.2786 - mean_squared_error: 2.4613 - mean_absolute_error: 1.2786 - acc: 0.0000e+00\n",
      "Epoch 15/100\n",
      "2000/2000 [==============================] - 0s 77us/step - loss: 1.2786 - mean_squared_error: 2.4613 - mean_absolute_error: 1.2786 - acc: 0.0000e+00\n",
      "Epoch 16/100\n",
      "2000/2000 [==============================] - 0s 77us/step - loss: 1.2786 - mean_squared_error: 2.4613 - mean_absolute_error: 1.2786 - acc: 0.0000e+00\n",
      "Epoch 17/100\n",
      "2000/2000 [==============================] - 0s 76us/step - loss: 1.2786 - mean_squared_error: 2.4613 - mean_absolute_error: 1.2786 - acc: 0.0000e+00\n",
      "Epoch 18/100\n",
      "2000/2000 [==============================] - 0s 75us/step - loss: 1.2786 - mean_squared_error: 2.4613 - mean_absolute_error: 1.2786 - acc: 0.0000e+00\n",
      "Epoch 19/100\n",
      "2000/2000 [==============================] - 0s 75us/step - loss: 1.2786 - mean_squared_error: 2.4613 - mean_absolute_error: 1.2786 - acc: 0.0000e+00\n",
      "Epoch 20/100\n",
      "2000/2000 [==============================] - 0s 75us/step - loss: 1.2786 - mean_squared_error: 2.4613 - mean_absolute_error: 1.2786 - acc: 0.0000e+00\n",
      "Epoch 21/100\n",
      "2000/2000 [==============================] - 0s 82us/step - loss: 1.2786 - mean_squared_error: 2.4613 - mean_absolute_error: 1.2786 - acc: 0.0000e+00\n",
      "Epoch 22/100\n",
      "2000/2000 [==============================] - 0s 74us/step - loss: 1.2786 - mean_squared_error: 2.4613 - mean_absolute_error: 1.2786 - acc: 0.0000e+00\n",
      "Epoch 23/100\n",
      "2000/2000 [==============================] - 0s 78us/step - loss: 1.2786 - mean_squared_error: 2.4613 - mean_absolute_error: 1.2786 - acc: 0.0000e+00\n",
      "Epoch 24/100\n",
      "2000/2000 [==============================] - 0s 90us/step - loss: 1.2786 - mean_squared_error: 2.4613 - mean_absolute_error: 1.2786 - acc: 0.0000e+00\n",
      "Epoch 25/100\n",
      "2000/2000 [==============================] - 0s 81us/step - loss: 1.2786 - mean_squared_error: 2.4613 - mean_absolute_error: 1.2786 - acc: 0.0000e+00\n",
      "Epoch 26/100\n",
      "2000/2000 [==============================] - 0s 77us/step - loss: 1.2786 - mean_squared_error: 2.4613 - mean_absolute_error: 1.2786 - acc: 0.0000e+00\n",
      "Epoch 27/100\n",
      "2000/2000 [==============================] - 0s 80us/step - loss: 1.2786 - mean_squared_error: 2.4613 - mean_absolute_error: 1.2786 - acc: 0.0000e+00\n",
      "Epoch 28/100\n",
      "2000/2000 [==============================] - 0s 87us/step - loss: 1.2786 - mean_squared_error: 2.4613 - mean_absolute_error: 1.2786 - acc: 0.0000e+00\n",
      "Epoch 29/100\n",
      "2000/2000 [==============================] - 0s 83us/step - loss: 1.2786 - mean_squared_error: 2.4613 - mean_absolute_error: 1.2786 - acc: 0.0000e+00\n",
      "Epoch 30/100\n",
      "2000/2000 [==============================] - 0s 83us/step - loss: 1.2786 - mean_squared_error: 2.4613 - mean_absolute_error: 1.2786 - acc: 0.0000e+00\n",
      "Epoch 31/100\n",
      "2000/2000 [==============================] - 0s 79us/step - loss: 1.2786 - mean_squared_error: 2.4613 - mean_absolute_error: 1.2786 - acc: 0.0000e+00\n",
      "Epoch 32/100\n",
      "2000/2000 [==============================] - 0s 85us/step - loss: 1.2786 - mean_squared_error: 2.4613 - mean_absolute_error: 1.2786 - acc: 0.0000e+00\n",
      "Epoch 33/100\n",
      "2000/2000 [==============================] - 0s 84us/step - loss: 1.2786 - mean_squared_error: 2.4613 - mean_absolute_error: 1.2786 - acc: 0.0000e+00\n",
      "Epoch 34/100\n",
      "2000/2000 [==============================] - 0s 86us/step - loss: 1.2786 - mean_squared_error: 2.4613 - mean_absolute_error: 1.2786 - acc: 0.0000e+00\n",
      "Epoch 35/100\n",
      "2000/2000 [==============================] - 0s 80us/step - loss: 1.2786 - mean_squared_error: 2.4613 - mean_absolute_error: 1.2786 - acc: 0.0000e+00\n",
      "Epoch 36/100\n",
      "2000/2000 [==============================] - 0s 85us/step - loss: 1.2786 - mean_squared_error: 2.4613 - mean_absolute_error: 1.2786 - acc: 0.0000e+00\n",
      "Epoch 37/100\n",
      "2000/2000 [==============================] - 0s 79us/step - loss: 1.2786 - mean_squared_error: 2.4613 - mean_absolute_error: 1.2786 - acc: 0.0000e+00\n",
      "Epoch 38/100\n",
      "2000/2000 [==============================] - 0s 80us/step - loss: 1.2786 - mean_squared_error: 2.4613 - mean_absolute_error: 1.2786 - acc: 0.0000e+00\n",
      "Epoch 39/100\n",
      "2000/2000 [==============================] - 0s 83us/step - loss: 1.2786 - mean_squared_error: 2.4613 - mean_absolute_error: 1.2786 - acc: 0.0000e+00\n",
      "Epoch 40/100\n",
      "2000/2000 [==============================] - 0s 76us/step - loss: 1.2786 - mean_squared_error: 2.4613 - mean_absolute_error: 1.2786 - acc: 0.0000e+00\n",
      "Epoch 41/100\n",
      "2000/2000 [==============================] - 0s 78us/step - loss: 1.2786 - mean_squared_error: 2.4613 - mean_absolute_error: 1.2786 - acc: 0.0000e+00\n",
      "Epoch 42/100\n",
      "2000/2000 [==============================] - 0s 77us/step - loss: 1.2786 - mean_squared_error: 2.4613 - mean_absolute_error: 1.2786 - acc: 0.0000e+00\n",
      "Epoch 43/100\n",
      "2000/2000 [==============================] - 0s 85us/step - loss: 1.2786 - mean_squared_error: 2.4613 - mean_absolute_error: 1.2786 - acc: 0.0000e+00\n",
      "Epoch 44/100\n",
      "2000/2000 [==============================] - 0s 87us/step - loss: 1.2786 - mean_squared_error: 2.4613 - mean_absolute_error: 1.2786 - acc: 0.0000e+00\n",
      "Epoch 45/100\n",
      "2000/2000 [==============================] - 0s 77us/step - loss: 1.2786 - mean_squared_error: 2.4613 - mean_absolute_error: 1.2786 - acc: 0.0000e+00\n",
      "Epoch 46/100\n",
      "2000/2000 [==============================] - 0s 77us/step - loss: 1.2786 - mean_squared_error: 2.4613 - mean_absolute_error: 1.2786 - acc: 0.0000e+00\n",
      "Epoch 47/100\n",
      "2000/2000 [==============================] - 0s 75us/step - loss: 1.2786 - mean_squared_error: 2.4613 - mean_absolute_error: 1.2786 - acc: 0.0000e+00\n",
      "Epoch 48/100\n",
      "2000/2000 [==============================] - 0s 79us/step - loss: 1.2786 - mean_squared_error: 2.4613 - mean_absolute_error: 1.2786 - acc: 0.0000e+00\n",
      "Epoch 49/100\n",
      "2000/2000 [==============================] - 0s 80us/step - loss: 1.2786 - mean_squared_error: 2.4613 - mean_absolute_error: 1.2786 - acc: 0.0000e+00\n",
      "Epoch 50/100\n",
      "2000/2000 [==============================] - 0s 78us/step - loss: 1.2786 - mean_squared_error: 2.4613 - mean_absolute_error: 1.2786 - acc: 0.0000e+00\n",
      "Epoch 51/100\n"
     ]
    },
    {
     "name": "stdout",
     "output_type": "stream",
     "text": [
      "2000/2000 [==============================] - 0s 77us/step - loss: 1.2786 - mean_squared_error: 2.4613 - mean_absolute_error: 1.2786 - acc: 0.0000e+00\n",
      "Epoch 52/100\n",
      "2000/2000 [==============================] - 0s 76us/step - loss: 1.2786 - mean_squared_error: 2.4613 - mean_absolute_error: 1.2786 - acc: 0.0000e+00\n",
      "Epoch 53/100\n",
      "2000/2000 [==============================] - 0s 71us/step - loss: 1.2786 - mean_squared_error: 2.4613 - mean_absolute_error: 1.2786 - acc: 0.0000e+00\n",
      "Epoch 54/100\n",
      "2000/2000 [==============================] - 0s 74us/step - loss: 1.2786 - mean_squared_error: 2.4613 - mean_absolute_error: 1.2786 - acc: 0.0000e+00\n",
      "Epoch 55/100\n",
      "2000/2000 [==============================] - 0s 72us/step - loss: 1.2786 - mean_squared_error: 2.4613 - mean_absolute_error: 1.2786 - acc: 0.0000e+00\n",
      "Epoch 56/100\n",
      "2000/2000 [==============================] - 0s 76us/step - loss: 1.2786 - mean_squared_error: 2.4613 - mean_absolute_error: 1.2786 - acc: 0.0000e+00 0s - loss: 1.2323 - mean_squared_error: 2.3613 - mean_absolute_error: 1.2323 - acc: 0.0000\n",
      "Epoch 57/100\n",
      "2000/2000 [==============================] - 0s 79us/step - loss: 1.2786 - mean_squared_error: 2.4613 - mean_absolute_error: 1.2786 - acc: 0.0000e+00\n",
      "Epoch 58/100\n",
      "2000/2000 [==============================] - 0s 73us/step - loss: 1.2786 - mean_squared_error: 2.4613 - mean_absolute_error: 1.2786 - acc: 0.0000e+00\n",
      "Epoch 59/100\n",
      "2000/2000 [==============================] - 0s 74us/step - loss: 1.2786 - mean_squared_error: 2.4613 - mean_absolute_error: 1.2786 - acc: 0.0000e+00\n",
      "Epoch 60/100\n",
      "2000/2000 [==============================] - 0s 89us/step - loss: 1.2786 - mean_squared_error: 2.4613 - mean_absolute_error: 1.2786 - acc: 0.0000e+00\n",
      "Epoch 61/100\n",
      "2000/2000 [==============================] - 0s 89us/step - loss: 1.2786 - mean_squared_error: 2.4613 - mean_absolute_error: 1.2786 - acc: 0.0000e+00\n",
      "Epoch 62/100\n",
      "2000/2000 [==============================] - 0s 72us/step - loss: 1.2786 - mean_squared_error: 2.4613 - mean_absolute_error: 1.2786 - acc: 0.0000e+00\n",
      "Epoch 63/100\n",
      "2000/2000 [==============================] - 0s 74us/step - loss: 1.2786 - mean_squared_error: 2.4613 - mean_absolute_error: 1.2786 - acc: 0.0000e+00\n",
      "Epoch 64/100\n",
      "2000/2000 [==============================] - 0s 80us/step - loss: 1.2786 - mean_squared_error: 2.4613 - mean_absolute_error: 1.2786 - acc: 0.0000e+00\n",
      "Epoch 65/100\n",
      "2000/2000 [==============================] - 0s 90us/step - loss: 1.2786 - mean_squared_error: 2.4613 - mean_absolute_error: 1.2786 - acc: 0.0000e+00\n",
      "Epoch 66/100\n",
      "2000/2000 [==============================] - 0s 85us/step - loss: 1.2786 - mean_squared_error: 2.4613 - mean_absolute_error: 1.2786 - acc: 0.0000e+00\n",
      "Epoch 67/100\n",
      "2000/2000 [==============================] - 0s 77us/step - loss: 1.2786 - mean_squared_error: 2.4613 - mean_absolute_error: 1.2786 - acc: 0.0000e+00\n",
      "Epoch 68/100\n",
      "2000/2000 [==============================] - 0s 71us/step - loss: 1.2786 - mean_squared_error: 2.4613 - mean_absolute_error: 1.2786 - acc: 0.0000e+00\n",
      "Epoch 69/100\n",
      "2000/2000 [==============================] - 0s 83us/step - loss: 1.2786 - mean_squared_error: 2.4613 - mean_absolute_error: 1.2786 - acc: 0.0000e+00 0s - loss: 1.3093 - mean_squared_error: 2.5610 - mean_absolute_error: 1.3093 - acc: 0.00\n",
      "Epoch 70/100\n",
      "2000/2000 [==============================] - 0s 87us/step - loss: 1.2786 - mean_squared_error: 2.4613 - mean_absolute_error: 1.2786 - acc: 0.0000e+00\n",
      "Epoch 71/100\n",
      "2000/2000 [==============================] - 0s 91us/step - loss: 1.2786 - mean_squared_error: 2.4613 - mean_absolute_error: 1.2786 - acc: 0.0000e+00\n",
      "Epoch 72/100\n",
      "2000/2000 [==============================] - 0s 83us/step - loss: 1.2786 - mean_squared_error: 2.4613 - mean_absolute_error: 1.2786 - acc: 0.0000e+00\n",
      "Epoch 73/100\n",
      "2000/2000 [==============================] - 0s 88us/step - loss: 1.2786 - mean_squared_error: 2.4613 - mean_absolute_error: 1.2786 - acc: 0.0000e+00\n",
      "Epoch 74/100\n",
      "2000/2000 [==============================] - 0s 90us/step - loss: 1.2786 - mean_squared_error: 2.4613 - mean_absolute_error: 1.2786 - acc: 0.0000e+00\n",
      "Epoch 75/100\n",
      "2000/2000 [==============================] - 0s 88us/step - loss: 1.2786 - mean_squared_error: 2.4613 - mean_absolute_error: 1.2786 - acc: 0.0000e+00\n",
      "Epoch 76/100\n",
      "2000/2000 [==============================] - 0s 95us/step - loss: 1.2786 - mean_squared_error: 2.4613 - mean_absolute_error: 1.2786 - acc: 0.0000e+00\n",
      "Epoch 77/100\n",
      "2000/2000 [==============================] - 0s 83us/step - loss: 1.2786 - mean_squared_error: 2.4613 - mean_absolute_error: 1.2786 - acc: 0.0000e+00\n",
      "Epoch 78/100\n",
      "2000/2000 [==============================] - 0s 83us/step - loss: 1.2786 - mean_squared_error: 2.4613 - mean_absolute_error: 1.2786 - acc: 0.0000e+00\n",
      "Epoch 79/100\n",
      "2000/2000 [==============================] - 0s 88us/step - loss: 1.2786 - mean_squared_error: 2.4613 - mean_absolute_error: 1.2786 - acc: 0.0000e+00\n",
      "Epoch 80/100\n",
      "2000/2000 [==============================] - 0s 87us/step - loss: 1.2786 - mean_squared_error: 2.4613 - mean_absolute_error: 1.2786 - acc: 0.0000e+00\n",
      "Epoch 81/100\n",
      "2000/2000 [==============================] - 0s 77us/step - loss: 1.2786 - mean_squared_error: 2.4613 - mean_absolute_error: 1.2786 - acc: 0.0000e+00\n",
      "Epoch 82/100\n",
      "2000/2000 [==============================] - 0s 79us/step - loss: 1.2786 - mean_squared_error: 2.4613 - mean_absolute_error: 1.2786 - acc: 0.0000e+00\n",
      "Epoch 83/100\n",
      "2000/2000 [==============================] - 0s 78us/step - loss: 1.2786 - mean_squared_error: 2.4613 - mean_absolute_error: 1.2786 - acc: 0.0000e+00\n",
      "Epoch 84/100\n",
      "2000/2000 [==============================] - 0s 93us/step - loss: 1.2786 - mean_squared_error: 2.4613 - mean_absolute_error: 1.2786 - acc: 0.0000e+00\n",
      "Epoch 85/100\n",
      "2000/2000 [==============================] - 0s 88us/step - loss: 1.2786 - mean_squared_error: 2.4613 - mean_absolute_error: 1.2786 - acc: 0.0000e+00\n",
      "Epoch 86/100\n",
      "2000/2000 [==============================] - 0s 79us/step - loss: 1.2786 - mean_squared_error: 2.4613 - mean_absolute_error: 1.2786 - acc: 0.0000e+00\n",
      "Epoch 87/100\n",
      "2000/2000 [==============================] - 0s 95us/step - loss: 1.2786 - mean_squared_error: 2.4613 - mean_absolute_error: 1.2786 - acc: 0.0000e+00\n",
      "Epoch 88/100\n",
      "2000/2000 [==============================] - 0s 76us/step - loss: 1.2786 - mean_squared_error: 2.4613 - mean_absolute_error: 1.2786 - acc: 0.0000e+00\n",
      "Epoch 89/100\n",
      "2000/2000 [==============================] - 0s 84us/step - loss: 1.2786 - mean_squared_error: 2.4613 - mean_absolute_error: 1.2786 - acc: 0.0000e+00\n",
      "Epoch 90/100\n",
      "2000/2000 [==============================] - 0s 86us/step - loss: 1.2786 - mean_squared_error: 2.4613 - mean_absolute_error: 1.2786 - acc: 0.0000e+00\n",
      "Epoch 91/100\n",
      "2000/2000 [==============================] - 0s 79us/step - loss: 1.2786 - mean_squared_error: 2.4613 - mean_absolute_error: 1.2786 - acc: 0.0000e+00\n",
      "Epoch 92/100\n",
      "2000/2000 [==============================] - 0s 85us/step - loss: 1.2786 - mean_squared_error: 2.4613 - mean_absolute_error: 1.2786 - acc: 0.0000e+00\n",
      "Epoch 93/100\n",
      "2000/2000 [==============================] - 0s 73us/step - loss: 1.2786 - mean_squared_error: 2.4613 - mean_absolute_error: 1.2786 - acc: 0.0000e+00\n",
      "Epoch 94/100\n",
      "2000/2000 [==============================] - 0s 76us/step - loss: 1.2786 - mean_squared_error: 2.4613 - mean_absolute_error: 1.2786 - acc: 0.0000e+00\n",
      "Epoch 95/100\n",
      "2000/2000 [==============================] - 0s 77us/step - loss: 1.2786 - mean_squared_error: 2.4613 - mean_absolute_error: 1.2786 - acc: 0.0000e+00\n",
      "Epoch 96/100\n",
      "2000/2000 [==============================] - 0s 85us/step - loss: 1.2786 - mean_squared_error: 2.4613 - mean_absolute_error: 1.2786 - acc: 0.0000e+00\n",
      "Epoch 97/100\n",
      "2000/2000 [==============================] - 0s 77us/step - loss: 1.2786 - mean_squared_error: 2.4613 - mean_absolute_error: 1.2786 - acc: 0.0000e+00\n",
      "Epoch 98/100\n",
      "2000/2000 [==============================] - 0s 76us/step - loss: 1.2786 - mean_squared_error: 2.4613 - mean_absolute_error: 1.2786 - acc: 0.0000e+00\n",
      "Epoch 99/100\n",
      "2000/2000 [==============================] - 0s 83us/step - loss: 1.2786 - mean_squared_error: 2.4613 - mean_absolute_error: 1.2786 - acc: 0.0000e+00\n",
      "Epoch 100/100\n"
     ]
    },
    {
     "name": "stdout",
     "output_type": "stream",
     "text": [
      "2000/2000 [==============================] - 0s 82us/step - loss: 1.2786 - mean_squared_error: 2.4613 - mean_absolute_error: 1.2786 - acc: 0.0000e+00\n"
     ]
    }
   ],
   "source": [
    "from keras import models\n",
    "from keras import layers\n",
    "model=models.Sequential()\n",
    "model.add(layers.Dense(1,activation='softmax',input_dim=1))\n",
    "model.compile(optimizer='rmsprop',loss='mae',metrics=['mse','mae','accuracy'])\n",
    "history=model.fit(x,y,epochs=100)"
   ]
  },
  {
   "cell_type": "code",
   "execution_count": 33,
   "metadata": {},
   "outputs": [
    {
     "name": "stdout",
     "output_type": "stream",
     "text": [
      "2000/2000 [==============================] - 0s 63us/step\n"
     ]
    },
    {
     "data": {
      "text/plain": [
       "[1.2786231627464295, 2.461318208694458, 1.2786231627464295, 0.0]"
      ]
     },
     "execution_count": 33,
     "metadata": {},
     "output_type": "execute_result"
    }
   ],
   "source": [
    "model.evaluate(x,y)"
   ]
  },
  {
   "cell_type": "code",
   "execution_count": 34,
   "metadata": {
    "collapsed": true
   },
   "outputs": [],
   "source": [
    "from keras import models\n",
    "from keras import layers\n",
    "network=models.Sequential()\n",
    "network.add(layers.Dense(512,activation='relu',input_shape=(28 * 28,))) # 512 is number of output nodes   \n",
    "network.add(layers.Dense(10,activation='softmax'))"
   ]
  },
  {
   "cell_type": "code",
   "execution_count": 35,
   "metadata": {
    "collapsed": true
   },
   "outputs": [],
   "source": [
    "network.compile(optimizer='rmsprop',loss='categorical_crossentropy',metrics=['accuracy'])\n"
   ]
  },
  {
   "cell_type": "code",
   "execution_count": 36,
   "metadata": {},
   "outputs": [
    {
     "data": {
      "text/plain": [
       "47040000"
      ]
     },
     "execution_count": 36,
     "metadata": {},
     "output_type": "execute_result"
    }
   ],
   "source": [
    "train_images = train_images.reshape((60000, 28 * 28))\n",
    "train_images = train_images.astype('float32') / 255\n",
    "test_images = test_images.reshape((10000, 28 * 28))\n",
    "test_images = test_images.astype('float32') / 255\n",
    "train_images.size"
   ]
  },
  {
   "cell_type": "code",
   "execution_count": 37,
   "metadata": {
    "collapsed": true
   },
   "outputs": [],
   "source": [
    "from keras.utils import to_categorical\n",
    "train_labels = to_categorical(train_labels)\n",
    "test_labels = to_categorical(test_labels)"
   ]
  },
  {
   "cell_type": "code",
   "execution_count": 38,
   "metadata": {},
   "outputs": [
    {
     "name": "stdout",
     "output_type": "stream",
     "text": [
      "Epoch 1/5\n",
      "60000/60000 [==============================] - 10s 175us/step - loss: 0.2531 - acc: 0.9264\n",
      "Epoch 2/5\n",
      "60000/60000 [==============================] - 9s 154us/step - loss: 0.1047 - acc: 0.9696\n",
      "Epoch 3/5\n",
      "60000/60000 [==============================] - 9s 153us/step - loss: 0.0687 - acc: 0.9793\n",
      "Epoch 4/5\n",
      "60000/60000 [==============================] - 9s 152us/step - loss: 0.0504 - acc: 0.9854\n",
      "Epoch 5/5\n",
      "60000/60000 [==============================] - 9s 149us/step - loss: 0.0383 - acc: 0.9886\n"
     ]
    },
    {
     "data": {
      "text/plain": [
       "<keras.callbacks.History at 0x25e4ce636d8>"
      ]
     },
     "execution_count": 38,
     "metadata": {},
     "output_type": "execute_result"
    }
   ],
   "source": [
    "network.fit(train_images, train_labels, epochs=5, batch_size=128)\n"
   ]
  },
  {
   "cell_type": "code",
   "execution_count": 39,
   "metadata": {},
   "outputs": [
    {
     "name": "stdout",
     "output_type": "stream",
     "text": [
      "10000/10000 [==============================] - 2s 182us/step\n"
     ]
    }
   ],
   "source": [
    "test_loss,test_acc=network.evaluate(test_images,test_labels)"
   ]
  },
  {
   "cell_type": "code",
   "execution_count": 40,
   "metadata": {},
   "outputs": [
    {
     "name": "stdout",
     "output_type": "stream",
     "text": [
      "Accuracy: 0.979 Cost: 0.0742955081420485\n"
     ]
    }
   ],
   "source": [
    "print(\"Accuracy:\",test_acc,\"Cost:\",test_loss)"
   ]
  },
  {
   "cell_type": "code",
   "execution_count": 43,
   "metadata": {
    "collapsed": true
   },
   "outputs": [],
   "source": [
    "from keras.datasets import mnist\n",
    "(train_images,train_labels),(test_images,test_labels)=mnist.load_data()"
   ]
  },
  {
   "cell_type": "code",
   "execution_count": 44,
   "metadata": {},
   "outputs": [
    {
     "data": {
      "image/png": "[encoded data removed]",
      "text/plain": [
       "<matplotlib.figure.Figure at 0x25e498709b0>"
      ]
     },
     "metadata": {},
     "output_type": "display_data"
    }
   ],
   "source": [
    "digits=train_images[4]\n",
    "import matplotlib.pyplot as plt\n",
    "plt.imshow(digits,cmap=plt.cm.binary)\n",
    "plt.show()"
   ]
  },
  {
   "cell_type": "code",
   "execution_count": null,
   "metadata": {
    "collapsed": true
   },
   "outputs": [],
   "source": []
  }
 ],
 "metadata": {
  "kernelspec": {
   "display_name": "Python 3",
   "language": "python",
   "name": "python3"
  },
  "language_info": {
   "codemirror_mode": {
    "name": "ipython",
    "version": 3
   },
   "file_extension": ".py",
   "mimetype": "text/x-python",
   "name": "python",
   "nbconvert_exporter": "python",
   "pygments_lexer": "ipython3",
   "version": "3.6.1"
  }
 },
 "nbformat": 4,
 "nbformat_minor": 2
}
