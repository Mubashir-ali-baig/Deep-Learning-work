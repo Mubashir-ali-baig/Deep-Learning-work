{
 "cells": [
  {
   "cell_type": "code",
   "execution_count": 52,
   "metadata": {
    "collapsed": true,
    "slideshow": {
     "slide_type": "-"
    }
   },
   "outputs": [],
   "source": [
    "# Importing\n",
    "import pandas as pd\n",
    "import numpy as np\n",
    "import matplotlib.pyplot as plt\n"
   ]
  },
  {
   "cell_type": "markdown",
   "metadata": {},
   "source": [
    "# Analyzing the Data"
   ]
  },
  {
   "cell_type": "code",
   "execution_count": 53,
   "metadata": {},
   "outputs": [
    {
     "data": {
      "text/html": [
       "<div>\n",
       "<style>\n",
       "    .dataframe thead tr:only-child th {\n",
       "        text-align: right;\n",
       "    }\n",
       "\n",
       "    .dataframe thead th {\n",
       "        text-align: left;\n",
       "    }\n",
       "\n",
       "    .dataframe tbody tr th {\n",
       "        vertical-align: top;\n",
       "    }\n",
       "</style>\n",
       "<table border=\"1\" class=\"dataframe\">\n",
       "  <thead>\n",
       "    <tr style=\"text-align: right;\">\n",
       "      <th></th>\n",
       "      <th>Brand</th>\n",
       "      <th>Condition</th>\n",
       "      <th>Fuel</th>\n",
       "      <th>KMs_Driven</th>\n",
       "      <th>Model</th>\n",
       "      <th>Price</th>\n",
       "      <th>Registered City</th>\n",
       "      <th>Transaction Type</th>\n",
       "      <th>Year</th>\n",
       "    </tr>\n",
       "  </thead>\n",
       "  <tbody>\n",
       "    <tr>\n",
       "      <th>0</th>\n",
       "      <td>Toyota</td>\n",
       "      <td>Used</td>\n",
       "      <td>Diesel</td>\n",
       "      <td>1.0</td>\n",
       "      <td>Prado</td>\n",
       "      <td>2100000</td>\n",
       "      <td>Karachi</td>\n",
       "      <td>Cash</td>\n",
       "      <td>1997.0</td>\n",
       "    </tr>\n",
       "    <tr>\n",
       "      <th>1</th>\n",
       "      <td>Suzuki</td>\n",
       "      <td>Used</td>\n",
       "      <td>Petrol</td>\n",
       "      <td>100000.0</td>\n",
       "      <td>Bolan</td>\n",
       "      <td>380000</td>\n",
       "      <td>Karachi</td>\n",
       "      <td>Cash</td>\n",
       "      <td>2006.0</td>\n",
       "    </tr>\n",
       "    <tr>\n",
       "      <th>2</th>\n",
       "      <td>Suzuki</td>\n",
       "      <td>Used</td>\n",
       "      <td>CNG</td>\n",
       "      <td>12345.0</td>\n",
       "      <td>Bolan</td>\n",
       "      <td>340000</td>\n",
       "      <td>Karachi</td>\n",
       "      <td>Cash</td>\n",
       "      <td>1998.0</td>\n",
       "    </tr>\n",
       "    <tr>\n",
       "      <th>3</th>\n",
       "      <td>Suzuki</td>\n",
       "      <td>Used</td>\n",
       "      <td>Petrol</td>\n",
       "      <td>94000.0</td>\n",
       "      <td>Alto</td>\n",
       "      <td>535000</td>\n",
       "      <td>Karachi</td>\n",
       "      <td>Cash</td>\n",
       "      <td>2010.0</td>\n",
       "    </tr>\n",
       "    <tr>\n",
       "      <th>4</th>\n",
       "      <td>Toyota</td>\n",
       "      <td>Used</td>\n",
       "      <td>Petrol</td>\n",
       "      <td>100000.0</td>\n",
       "      <td>Corolla XLI</td>\n",
       "      <td>1430000</td>\n",
       "      <td>Karachi</td>\n",
       "      <td>Cash</td>\n",
       "      <td>2013.0</td>\n",
       "    </tr>\n",
       "  </tbody>\n",
       "</table>\n",
       "</div>"
      ],
      "text/plain": [
       "    Brand Condition    Fuel  KMs_Driven        Model    Price Registered City  \\\n",
       "0  Toyota      Used  Diesel         1.0        Prado  2100000         Karachi   \n",
       "1  Suzuki      Used  Petrol    100000.0        Bolan   380000         Karachi   \n",
       "2  Suzuki      Used     CNG     12345.0        Bolan   340000         Karachi   \n",
       "3  Suzuki      Used  Petrol     94000.0         Alto   535000         Karachi   \n",
       "4  Toyota      Used  Petrol    100000.0  Corolla XLI  1430000         Karachi   \n",
       "\n",
       "  Transaction Type    Year  \n",
       "0             Cash  1997.0  \n",
       "1             Cash  2006.0  \n",
       "2             Cash  1998.0  \n",
       "3             Cash  2010.0  \n",
       "4             Cash  2013.0  "
      ]
     },
     "execution_count": 53,
     "metadata": {},
     "output_type": "execute_result"
    }
   ],
   "source": [
    "#READING\n",
    "df=pd.read_csv(\"OLX_Car_Data_CSV.csv\",delimiter=',',encoding=\"ISO-8859-1\")\n",
    "df.head()"
   ]
  },
  {
   "cell_type": "code",
   "execution_count": 4,
   "metadata": {},
   "outputs": [
    {
     "name": "stdout",
     "output_type": "stream",
     "text": [
      "Index(['Brand', 'Condition', 'Fuel', 'KMs_Driven', 'Model', 'Price',\n",
      "       'Registered City', 'Transaction Type', 'Year'],\n",
      "      dtype='object')\n"
     ]
    }
   ],
   "source": [
    "print(df.columns)"
   ]
  },
  {
   "cell_type": "code",
   "execution_count": 174,
   "metadata": {},
   "outputs": [
    {
     "name": "stdout",
     "output_type": "stream",
     "text": [
      "Brand                object\n",
      "Condition            object\n",
      "Fuel                 object\n",
      "KMs_Driven          float64\n",
      "Model                object\n",
      "Price                 int64\n",
      "Registered City      object\n",
      "Transaction Type     object\n",
      "Year                float64\n",
      "dtype: object\n"
     ]
    }
   ],
   "source": [
    "print(df.dtypes)"
   ]
  },
  {
   "cell_type": "code",
   "execution_count": 190,
   "metadata": {},
   "outputs": [
    {
     "data": {
      "text/html": [
       "<div>\n",
       "<style>\n",
       "    .dataframe thead tr:only-child th {\n",
       "        text-align: right;\n",
       "    }\n",
       "\n",
       "    .dataframe thead th {\n",
       "        text-align: left;\n",
       "    }\n",
       "\n",
       "    .dataframe tbody tr th {\n",
       "        vertical-align: top;\n",
       "    }\n",
       "</style>\n",
       "<table border=\"1\" class=\"dataframe\">\n",
       "  <thead>\n",
       "    <tr style=\"text-align: right;\">\n",
       "      <th></th>\n",
       "      <th>KMs_Driven</th>\n",
       "      <th>Price</th>\n",
       "      <th>Year</th>\n",
       "    </tr>\n",
       "  </thead>\n",
       "  <tbody>\n",
       "    <tr>\n",
       "      <th>count</th>\n",
       "      <td>2.268700e+04</td>\n",
       "      <td>2.497300e+04</td>\n",
       "      <td>22689.000000</td>\n",
       "    </tr>\n",
       "    <tr>\n",
       "      <th>mean</th>\n",
       "      <td>1.278112e+05</td>\n",
       "      <td>9.128953e+05</td>\n",
       "      <td>2005.901626</td>\n",
       "    </tr>\n",
       "    <tr>\n",
       "      <th>std</th>\n",
       "      <td>5.996726e+05</td>\n",
       "      <td>1.537134e+06</td>\n",
       "      <td>9.563804</td>\n",
       "    </tr>\n",
       "    <tr>\n",
       "      <th>min</th>\n",
       "      <td>1.000000e+00</td>\n",
       "      <td>5.000000e+04</td>\n",
       "      <td>1915.000000</td>\n",
       "    </tr>\n",
       "    <tr>\n",
       "      <th>25%</th>\n",
       "      <td>1.600000e+04</td>\n",
       "      <td>3.800000e+05</td>\n",
       "      <td>2002.000000</td>\n",
       "    </tr>\n",
       "    <tr>\n",
       "      <th>50%</th>\n",
       "      <td>6.651000e+04</td>\n",
       "      <td>6.500000e+05</td>\n",
       "      <td>2008.000000</td>\n",
       "    </tr>\n",
       "    <tr>\n",
       "      <th>75%</th>\n",
       "      <td>1.000000e+05</td>\n",
       "      <td>1.145000e+06</td>\n",
       "      <td>2013.000000</td>\n",
       "    </tr>\n",
       "    <tr>\n",
       "      <th>max</th>\n",
       "      <td>1.000000e+07</td>\n",
       "      <td>8.765432e+07</td>\n",
       "      <td>2020.000000</td>\n",
       "    </tr>\n",
       "  </tbody>\n",
       "</table>\n",
       "</div>"
      ],
      "text/plain": [
       "         KMs_Driven         Price          Year\n",
       "count  2.268700e+04  2.497300e+04  22689.000000\n",
       "mean   1.278112e+05  9.128953e+05   2005.901626\n",
       "std    5.996726e+05  1.537134e+06      9.563804\n",
       "min    1.000000e+00  5.000000e+04   1915.000000\n",
       "25%    1.600000e+04  3.800000e+05   2002.000000\n",
       "50%    6.651000e+04  6.500000e+05   2008.000000\n",
       "75%    1.000000e+05  1.145000e+06   2013.000000\n",
       "max    1.000000e+07  8.765432e+07   2020.000000"
      ]
     },
     "execution_count": 190,
     "metadata": {},
     "output_type": "execute_result"
    }
   ],
   "source": [
    "df.describe()"
   ]
  },
  {
   "cell_type": "code",
   "execution_count": 177,
   "metadata": {},
   "outputs": [
    {
     "data": {
      "text/plain": [
       "Cultus VXR                   1775\n",
       "Alto                         1658\n",
       "Corolla GLI                  1043\n",
       "Mehran VX                    1025\n",
       "Other                         920\n",
       "Mehran VXR                    790\n",
       "Bolan                         702\n",
       "Khyber                        670\n",
       "Vitz                          612\n",
       "Mira                          606\n",
       "Cuore                         544\n",
       "Charade                       531\n",
       "Corolla XLI                   507\n",
       "Civic EXi                     486\n",
       "Civic VTi Oriel Prosmatec     436\n",
       "City IVTEC                    405\n",
       "Hijet                         369\n",
       "Cultus VXL                    360\n",
       "City IDSI                     352\n",
       "FX                            342\n",
       "Corrolla Altis                339\n",
       "Wagon R                       331\n",
       "Swift                         323\n",
       "Passo                         296\n",
       "Aqua                          277\n",
       "Margalla                      275\n",
       "Civic Prosmetic               273\n",
       "Civic VTi                     237\n",
       "Every                         232\n",
       "Santro                        212\n",
       "                             ... \n",
       "Demio                           1\n",
       "Succeed                         1\n",
       "cars-suzuki-86                  1\n",
       "Carisma                         1\n",
       "Bego                            1\n",
       "Coaster                         1\n",
       "Colt                            1\n",
       "Kalam                           1\n",
       "A Class                         1\n",
       "Acura                           1\n",
       "Silverado                       1\n",
       "Solio                           1\n",
       "Raum                            1\n",
       "Infinity                        1\n",
       "Palette Sw                      1\n",
       "B B                             1\n",
       "Familia Van                     1\n",
       "Auris                           1\n",
       "X5 Series                       1\n",
       "HR-V                            1\n",
       "Shogun                          1\n",
       "Beat                            1\n",
       "LX Series                       1\n",
       "Gran                            1\n",
       "6 Series                        1\n",
       "D Series                        1\n",
       "Cruze                           1\n",
       "i8                              1\n",
       "Sylphy                          1\n",
       "Lucida                          1\n",
       "Name: Model, Length: 303, dtype: int64"
      ]
     },
     "execution_count": 177,
     "metadata": {},
     "output_type": "execute_result"
    }
   ],
   "source": [
    "#Analyzing the models count\n",
    "df['Model'].value_counts()"
   ]
  },
  {
   "cell_type": "code",
   "execution_count": 193,
   "metadata": {},
   "outputs": [
    {
     "data": {
      "text/plain": [
       "Cultus VXR     1775\n",
       "Alto           1658\n",
       "Corolla GLI    1043\n",
       "Mehran VX      1025\n",
       "Other           920\n",
       "Name: Model, dtype: int64"
      ]
     },
     "execution_count": 193,
     "metadata": {},
     "output_type": "execute_result"
    }
   ],
   "source": [
    "#Analyzing the models count with head()\n",
    "df['Model'].value_counts().head()"
   ]
  },
  {
   "cell_type": "markdown",
   "metadata": {},
   "source": [
    "# Visualization Part\n",
    "\n",
    "# Fuel Vs Price Graph"
   ]
  },
  {
   "cell_type": "code",
   "execution_count": 196,
   "metadata": {},
   "outputs": [
    {
     "data": {
      "image/png": "[encoded data removed]",
      "text/plain": [
       "<matplotlib.figure.Figure at 0x20d19827668>"
      ]
     },
     "metadata": {},
     "output_type": "display_data"
    }
   ],
   "source": [
    "Fuel_elements = df.groupby('Fuel').Price.sum()\n",
    "fig = plt.figure()\n",
    "config = fig.add_subplot(1,1,1)\n",
    "config.set_xlabel('Fuel')\n",
    "config.set_ylabel('Price')\n",
    "config.set_title(\"Fuel Vs Price\")\n",
    "Fuel_elements.plot(kind='bar',color=my_colors)\n",
    "plt.show()"
   ]
  },
  {
   "cell_type": "markdown",
   "metadata": {},
   "source": [
    "# Brand Vs Price Graph"
   ]
  },
  {
   "cell_type": "code",
   "execution_count": 182,
   "metadata": {},
   "outputs": [
    {
     "data": {
      "image/png": "[encoded data removed]",
      "text/plain": [
       "<matplotlib.figure.Figure at 0x20d172f4e48>"
      ]
     },
     "metadata": {},
     "output_type": "display_data"
    }
   ],
   "source": [
    "from itertools import cycle, islice\n",
    "my_colors = list(islice(cycle(['b', 'r', 'g', 'y', 'k']), None, len(df)))\n",
    "\n",
    "Brand_elements=df.groupby('Brand').Price.sum()\n",
    "fig=plt.figure()\n",
    "config=fig.add_subplot(1,1,1)\n",
    "config.set_xlabel('Brand')\n",
    "config.set_ylabel('Price')\n",
    "config.set_title('Brand Vs Price')\n",
    "Brand_elements.plot(kind='bar',color=my_colors)\n",
    "plt.show()"
   ]
  },
  {
   "cell_type": "markdown",
   "metadata": {},
   "source": [
    "# Condition Vs Price Graph"
   ]
  },
  {
   "cell_type": "code",
   "execution_count": 183,
   "metadata": {},
   "outputs": [
    {
     "data": {
      "image/png": "[encoded data removed]",
      "text/plain": [
       "<matplotlib.figure.Figure at 0x20d19987240>"
      ]
     },
     "metadata": {},
     "output_type": "display_data"
    }
   ],
   "source": [
    "Condition_elements=df.groupby('Condition').Price.sum()\n",
    "fig=plt.figure()\n",
    "config=fig.add_subplot(1,1,1)\n",
    "config.set_xlabel('Condition')\n",
    "config.set_ylabel('Price')\n",
    "config.set_title('Condition vs Price')\n",
    "Condition_elements.plot(kind='bar',color=my_colors)\n",
    "plt.show()"
   ]
  },
  {
   "cell_type": "markdown",
   "metadata": {},
   "source": [
    "# Year Vs Condition Graph"
   ]
  },
  {
   "cell_type": "code",
   "execution_count": 195,
   "metadata": {},
   "outputs": [
    {
     "data": {
      "image/png": "[encoded data removed]",
      "text/plain": [
       "<matplotlib.figure.Figure at 0x20d1b57aa58>"
      ]
     },
     "metadata": {},
     "output_type": "display_data"
    }
   ],
   "source": [
    "Year_elements=df.groupby('Condition').Year.sum()\n",
    "fig=plt.figure()\n",
    "config=fig.add_subplot(1,1,1)\n",
    "config.set_xlabel('Condition')\n",
    "config.set_ylabel('Year')\n",
    "config.set_title('Year vs Condition')\n",
    "Condition_elements.plot(kind='bar',color=my_colors)\n",
    "plt.show()"
   ]
  },
  {
   "cell_type": "markdown",
   "metadata": {},
   "source": [
    "# Year Vs Price Graph"
   ]
  },
  {
   "cell_type": "code",
   "execution_count": 185,
   "metadata": {},
   "outputs": [
    {
     "data": {
      "image/png": "[encoded data removed]",
      "text/plain": [
       "<matplotlib.figure.Figure at 0x20d19884eb8>"
      ]
     },
     "metadata": {},
     "output_type": "display_data"
    }
   ],
   "source": [
    "Year_elements=df.groupby('Year').Price.sum()\n",
    "fig=plt.figure()\n",
    "config=fig.add_subplot(1,1,1)\n",
    "config.set_xlabel('Year')\n",
    "config.set_ylabel('Price')\n",
    "config.set_title('Year vs Price')\n",
    "Year_elements.plot(kind='Line')\n",
    "plt.show()"
   ]
  },
  {
   "cell_type": "markdown",
   "metadata": {},
   "source": [
    "# Model Vs Price Graph"
   ]
  },
  {
   "cell_type": "code",
   "execution_count": 186,
   "metadata": {},
   "outputs": [
    {
     "data": {
      "image/png": "[encoded data removed]",
      "text/plain": [
       "<matplotlib.figure.Figure at 0x20d198eff60>"
      ]
     },
     "metadata": {},
     "output_type": "display_data"
    }
   ],
   "source": [
    "Model_elements=df.groupby('Model').Price.sum()\n",
    "fig=plt.figure()\n",
    "config=fig.add_subplot(1,1,1)\n",
    "config.set_xlabel('Model')\n",
    "config.set_ylabel('Price')\n",
    "config.set_title('Model vs Price')\n",
    "Model_elements.plot(kind='Line')\n",
    "plt.show()"
   ]
  },
  {
   "cell_type": "markdown",
   "metadata": {},
   "source": [
    "# Model Vs KMs graph"
   ]
  },
  {
   "cell_type": "code",
   "execution_count": 189,
   "metadata": {},
   "outputs": [
    {
     "data": {
      "image/png": "[encoded data removed]",
      "text/plain": [
       "<matplotlib.figure.Figure at 0x20d15c82128>"
      ]
     },
     "metadata": {},
     "output_type": "display_data"
    }
   ],
   "source": [
    "Model_elements=df.groupby('Model').KMs_Driven.sum()\n",
    "fig=plt.figure()\n",
    "config=fig.add_subplot(1,1,1)\n",
    "config.set_xlabel('Model')\n",
    "config.set_ylabel('KMs')\n",
    "config.set_title('Model vs KMs')\n",
    "Model_elements.plot(kind='Line')\n",
    "plt.show()"
   ]
  },
  {
   "cell_type": "code",
   "execution_count": 54,
   "metadata": {},
   "outputs": [
    {
     "name": "stdout",
     "output_type": "stream",
     "text": [
      "2015.0    1448\n",
      "2007.0    1423\n",
      "2006.0    1373\n",
      "2014.0    1294\n",
      "2013.0    1178\n",
      "2012.0    1104\n",
      "2005.0    1094\n",
      "2018.0    1055\n",
      "2008.0    1054\n",
      "2010.0    1051\n",
      "2011.0    1032\n",
      "2004.0     818\n",
      "2017.0     817\n",
      "2016.0     766\n",
      "2009.0     708\n",
      "2003.0     579\n",
      "1986.0     401\n",
      "2002.0     383\n",
      "1998.0     333\n",
      "2001.0     332\n",
      "1996.0     324\n",
      "1993.0     323\n",
      "1984.0     319\n",
      "1997.0     309\n",
      "2000.0     305\n",
      "1995.0     296\n",
      "1992.0     280\n",
      "1999.0     265\n",
      "1994.0     263\n",
      "1991.0     246\n",
      "          ... \n",
      "1982.0      94\n",
      "1983.0      82\n",
      "1974.0      45\n",
      "1981.0      41\n",
      "1980.0      34\n",
      "1979.0      21\n",
      "1973.0      13\n",
      "1976.0      11\n",
      "1978.0       9\n",
      "1975.0       8\n",
      "1977.0       7\n",
      "1972.0       7\n",
      "1971.0       7\n",
      "1969.0       7\n",
      "1970.0       6\n",
      "1967.0       4\n",
      "1952.0       4\n",
      "1964.0       2\n",
      "2020.0       2\n",
      "1951.0       2\n",
      "1943.0       2\n",
      "1963.0       2\n",
      "1962.0       2\n",
      "1965.0       2\n",
      "1925.0       1\n",
      "1956.0       1\n",
      "1968.0       1\n",
      "2019.0       1\n",
      "1915.0       1\n",
      "1960.0       1\n",
      "Name: Year, Length: 65, dtype: int64\n"
     ]
    }
   ],
   "source": [
    "carsperyear=df['Year'].value_counts()\n",
    "print(carsperyear)"
   ]
  },
  {
   "cell_type": "code",
   "execution_count": 59,
   "metadata": {
    "collapsed": true
   },
   "outputs": [],
   "source": [
    "df2 = c.rename_axis('years').reset_index(name='cars')"
   ]
  },
  {
   "cell_type": "code",
   "execution_count": 60,
   "metadata": {},
   "outputs": [
    {
     "name": "stdout",
     "output_type": "stream",
     "text": [
      "0    1448\n",
      "1    1423\n",
      "2    1373\n",
      "3    1294\n",
      "4    1178\n",
      "Name: cars, dtype: int64\n"
     ]
    }
   ],
   "source": [
    "print(df2['cars'].head())"
   ]
  },
  {
   "cell_type": "code",
   "execution_count": null,
   "metadata": {
    "collapsed": true
   },
   "outputs": [],
   "source": []
  }
 ],
 "metadata": {
  "kernelspec": {
   "display_name": "Python 3",
   "language": "python",
   "name": "python3"
  },
  "language_info": {
   "codemirror_mode": {
    "name": "ipython",
    "version": 3
   },
   "file_extension": ".py",
   "mimetype": "text/x-python",
   "name": "python",
   "nbconvert_exporter": "python",
   "pygments_lexer": "ipython3",
   "version": "3.6.1"
  },
  "widgets": {
   "application/vnd.jupyter.widget-state+json": {
    "state": {},
    "version_major": 1,
    "version_minor": 0
   }
  }
 },
 "nbformat": 4,
 "nbformat_minor": 2
}
